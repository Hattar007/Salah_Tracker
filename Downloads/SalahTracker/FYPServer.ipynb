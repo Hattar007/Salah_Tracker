{
 "cells": [
  {
   "cell_type": "code",
   "execution_count": null,
   "metadata": {},
   "outputs": [],
   "source": [
    "import pandas as pd\n",
    "import numpy as np\n",
    "import pickle\n",
    "\n",
    "from mpl_toolkits.mplot3d import Axes3D\n",
    "import matplotlib.pyplot as plt\n",
    "from sklearn.model_selection import train_test_split\n",
    "from sklearn.preprocessing import StandardScaler\n",
    "from sklearn.neighbors import KNeighborsClassifier\n",
    "from sklearn.metrics import classification_report, confusion_matrix"
   ]
  },
  {
   "cell_type": "code",
   "execution_count": null,
   "metadata": {},
   "outputs": [],
   "source": [
    "#Load Downloaded model from\n",
    "filename= 'finalized_model.sav'\n",
    "loaded_model = pickle.load(open(filename, 'rb'))\n",
    "scaler = pickle.load(open('scaler.pkl', 'rb'))"
   ]
  },
  {
   "cell_type": "code",
   "execution_count": null,
   "metadata": {},
   "outputs": [],
   "source": [
    "def predict(X_ , Y_ , Z_):\n",
    "    x= X_\n",
    "    y= Y_\n",
    "    z= Z_\n",
    "\n",
    "\n",
    "    array = []\n",
    "    array.append(x)\n",
    "    array.append(y)\n",
    "    array.append(z)\n",
    "    array = np.array(array)\n",
    "    array = array.reshape(1, -1)\n",
    "    array = scaler.transform(array)\n",
    "\n",
    "    label = loaded_model.predict(array)\n",
    "    return label"
   ]
  },
  {
   "cell_type": "code",
   "execution_count": null,
   "metadata": {},
   "outputs": [],
   "source": [
    "#print (predict(30,-30,19))"
   ]
  },
  {
   "cell_type": "code",
   "execution_count": null,
   "metadata": {},
   "outputs": [],
   "source": []
  },
  {
   "cell_type": "code",
   "execution_count": null,
   "metadata": {},
   "outputs": [],
   "source": [
    "import socket\n",
    "from _thread import *\n",
    "import threading\n",
    "import json\n",
    "from io import StringIO\n",
    "def threaded(c):\n",
    "    data = c.recv(1024)\n",
    "    data = json.loads( data.decode(\"utf-8\") )\n",
    "    print(data)\n",
    "    #vector = count_vector.transform( [data[\"Sentence\"]] ) \n",
    "    #label = naive_bayes.predict( vector )#\n",
    "    #print( label )#\n",
    "\n",
    "    print( \"Data\" , json.dumps({\"X\": float(data[\"X\"]) }) )\n",
    "    x=float(data[\"X\"])\n",
    "    y=float(data[\"Y\"])\n",
    "    z=float(data[\"Z\"])\n",
    "    \n",
    "    l=predict(x,y,z)\n",
    "    #loaded_model.predict\n",
    "   # data1=json.dumps({\"label\": l})\n",
    "    print(l)\n",
    "    print(\"Xxxxxxx: \",x)\n",
    "    print(\"Yyyyyyy: \",y)\n",
    "    \n",
    "    c.send( json.dumps({\"label\": l[0] }).encode('utf-8') )\n",
    "    c.close()\n",
    "port = 5005\n",
    "s = socket.socket(socket.AF_INET, socket.SOCK_STREAM)\n",
    "s.bind(( \"0.0.0.0\" , port ))\n",
    "print(\"socket binded to port\", port )\n",
    "s.listen(5)\n",
    "print(\"socket is listening\")\n",
    "all_conn = []\n",
    "while True:\n",
    "    conn, addr = s.accept()\n",
    "    print('Connected to :', addr[0], ':', addr[1])\n",
    "    all_conn.append( conn )\n",
    "    start_new_thread(threaded, (conn,))\n"
   ]
  },
  {
   "cell_type": "code",
   "execution_count": null,
   "metadata": {},
   "outputs": [],
   "source": [
    "s.close()"
   ]
  },
  {
   "cell_type": "code",
   "execution_count": null,
   "metadata": {},
   "outputs": [],
   "source": []
  },
  {
   "cell_type": "code",
   "execution_count": null,
   "metadata": {},
   "outputs": [],
   "source": []
  }
 ],
 "metadata": {
  "kernelspec": {
   "display_name": "Python 3",
   "language": "python",
   "name": "python3"
  },
  "language_info": {
   "codemirror_mode": {
    "name": "ipython",
    "version": 3
   },
   "file_extension": ".py",
   "mimetype": "text/x-python",
   "name": "python",
   "nbconvert_exporter": "python",
   "pygments_lexer": "ipython3",
   "version": "3.7.3"
  }
 },
 "nbformat": 4,
 "nbformat_minor": 2
}
